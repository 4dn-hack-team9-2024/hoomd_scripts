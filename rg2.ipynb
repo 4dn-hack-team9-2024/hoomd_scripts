{
 "cells": [
  {
   "cell_type": "code",
   "execution_count": 1,
   "id": "517ca5b7-65b8-4b64-b55a-9408f8488d67",
   "metadata": {},
   "outputs": [],
   "source": [
    "import os\n",
    "import json\n",
    "import hoomd\n",
    "import codecs"
   ]
  },
  {
   "cell_type": "code",
   "execution_count": 2,
   "id": "df6047b9-309f-4801-97b4-38d93dd858b7",
   "metadata": {},
   "outputs": [],
   "source": [
    "import polychrom_hoomd.log as log\n",
    "import polychrom_hoomd.build as build\n",
    "import polychrom_hoomd.forces as forces\n",
    "import polychrom_hoomd.render as render"
   ]
  },
  {
   "cell_type": "code",
   "execution_count": 3,
   "id": "03a39dff-037a-44ee-bf4f-ef4bd7d0d4ba",
   "metadata": {},
   "outputs": [],
   "source": [
    "from polykit.analysis import polymer_analyses, contact_maps\n",
    "from polykit.generators.initial_conformations import grow_cubic"
   ]
  },
  {
   "cell_type": "code",
   "execution_count": 4,
   "id": "66ad5211-9749-4600-b4e3-247912660bf1",
   "metadata": {},
   "outputs": [],
   "source": [
    "# Initialise HooMD on the CPU or GPU, based on availability\n",
    "hoomd_device = hoomd.device.GPU(gpu_ids=[3])"
   ]
  },
  {
   "cell_type": "code",
   "execution_count": 5,
   "id": "2e916d25-b079-4255-99ae-e7c04a717425",
   "metadata": {},
   "outputs": [
    {
     "name": "stdout",
     "output_type": "stream",
     "text": [
      "Using entropy-harvested random seed: 54397\n"
     ]
    }
   ],
   "source": [
    "# Generate RNG seed\n",
    "rng_seed = os.urandom(2)\n",
    "rng_seed = int(codecs.encode(rng_seed, 'hex'), 16)\n",
    "\n",
    "print(\"Using entropy-harvested random seed: %d\" % rng_seed)"
   ]
  },
  {
   "cell_type": "code",
   "execution_count": 6,
   "id": "95e545fe-e053-4dc4-8f60-2c65a044693e",
   "metadata": {},
   "outputs": [],
   "source": [
    "# Initialize empty simulation object\n",
    "system = hoomd.Simulation(device=hoomd_device, seed=rng_seed)"
   ]
  },
  {
   "cell_type": "code",
   "execution_count": 7,
   "id": "2dc036bd-39d5-45b6-847e-35672ea7ae48",
   "metadata": {},
   "outputs": [],
   "source": [
    "# Simulate a chromosome comprised of 15000 monomers, with number density 0.2\n",
    "density = 0.2\n",
    "chromosome_sizes = [15000]"
   ]
  },
  {
   "cell_type": "code",
   "execution_count": 8,
   "id": "20eed5f4-2b49-4b0e-a4f7-90920c55a239",
   "metadata": {},
   "outputs": [],
   "source": [
    "# Initialize simulation with the appropriate box size \n",
    "number_of_monomers = sum(chromosome_sizes)\n",
    "L = (number_of_monomers/density) ** (1/3.)\n",
    "\n",
    "snapshot = build.get_simulation_box(box_length=L)"
   ]
  },
  {
   "cell_type": "code",
   "execution_count": 9,
   "id": "23f0d3dc-14fb-4af8-b698-f5a8a7900403",
   "metadata": {},
   "outputs": [],
   "source": [
    "# Build random, dense initial conformations\n",
    "monomer_positions = grow_cubic(N=number_of_monomers, boxSize=int(L-2))"
   ]
  },
  {
   "cell_type": "code",
   "execution_count": 10,
   "id": "e15317ff-c004-4cfb-9cdb-400fe25b1fda",
   "metadata": {},
   "outputs": [],
   "source": [
    "# Populate snapshot with the generated chains\n",
    "build.set_chains(snapshot, monomer_positions, chromosome_sizes, monomer_type_list=['A'])"
   ]
  },
  {
   "cell_type": "code",
   "execution_count": 11,
   "id": "f47fd191-7ef9-4a30-b556-6ecd9ae93076",
   "metadata": {},
   "outputs": [],
   "source": [
    "# Setup HooMD simulation object\n",
    "system.create_state_from_snapshot(snapshot)"
   ]
  },
  {
   "cell_type": "code",
   "execution_count": 12,
   "id": "c89405a8-5eba-4e16-a2f9-7e152c4dcc2d",
   "metadata": {},
   "outputs": [],
   "source": [
    "# Setup neighbor list\n",
    "nl = hoomd.md.nlist.Cell(buffer=0.4)"
   ]
  },
  {
   "cell_type": "code",
   "execution_count": 13,
   "id": "19ec0d36-c09b-41a8-95e2-7e2cbeb26f08",
   "metadata": {},
   "outputs": [
    {
     "name": "stdout",
     "output_type": "stream",
     "text": [
      "{\n",
      "    \"Angular forces\": {\n",
      "        \"Curvature\": {\n",
      "            \"Stiffness\": 1.5,\n",
      "            \"Type\": \"Harmonic\"\n",
      "        }\n",
      "    },\n",
      "    \"Bonded forces\": {\n",
      "        \"Backbone\": {\n",
      "            \"Rest length\": 1.0,\n",
      "            \"Type\": \"Harmonic\",\n",
      "            \"Wiggle distance\": 0.05\n",
      "        }\n",
      "    },\n",
      "    \"External forces\": {\n",
      "        \"Confinement\": {}\n",
      "    },\n",
      "    \"Non-bonded forces\": {\n",
      "        \"Repulsion\": {\n",
      "            \"Cutoff\": 1.0,\n",
      "            \"Matrix\": {\n",
      "                \"A\": {\n",
      "                    \"A\": 3.0\n",
      "                }\n",
      "            },\n",
      "            \"Type\": \"Polychrom\"\n",
      "        }\n",
      "    }\n",
      "}\n"
     ]
    }
   ],
   "source": [
    "# Read input force parameters\n",
    "with open(\"force_dict_homopolymer.json\", 'r') as dict_file:\n",
    "    force_dict = json.load(dict_file)\n",
    "\n",
    "print(json.dumps(force_dict, indent=4, sort_keys=True))"
   ]
  },
  {
   "cell_type": "code",
   "execution_count": 14,
   "id": "a62dd5cc-05a3-4752-be4a-8f879c14a2df",
   "metadata": {},
   "outputs": [],
   "source": [
    "# Set chromosome excluded volume\n",
    "repulsion_forces = forces.get_repulsion_forces(nl, **force_dict)"
   ]
  },
  {
   "cell_type": "code",
   "execution_count": 15,
   "id": "ffab9972-9157-416f-a2a4-769a1dd32ae4",
   "metadata": {},
   "outputs": [],
   "source": [
    "# Set bonded/angular potentials\n",
    "bonded_forces = forces.get_bonded_forces(**force_dict)\n",
    "angular_forces = forces.get_angular_forces(**force_dict)"
   ]
  },
  {
   "cell_type": "code",
   "execution_count": 16,
   "id": "5c368bf0-f604-473f-9fb5-c18e2174c09f",
   "metadata": {},
   "outputs": [],
   "source": [
    "# Define full force_field\n",
    "force_field = repulsion_forces + bonded_forces + angular_forces"
   ]
  },
  {
   "cell_type": "code",
   "execution_count": 17,
   "id": "b4227d13-7285-475e-a824-612372e9bb01",
   "metadata": {},
   "outputs": [],
   "source": [
    "# HooMD to openMM time conversion factor\n",
    "t_conv = (1.67377*10**-27/(1.380649*10**-23*300))**0.5"
   ]
  },
  {
   "cell_type": "code",
   "execution_count": 18,
   "id": "0bc81010-436d-4303-946d-c7a59d1273fe",
   "metadata": {},
   "outputs": [],
   "source": [
    "# Initialize integrators and Langevin thermostat\n",
    "langevin = hoomd.md.methods.Langevin(filter=hoomd.filter.All(), kT=1.0)\n",
    "integrator = hoomd.md.Integrator(dt=70*t_conv, methods=[langevin], forces=force_field)"
   ]
  },
  {
   "cell_type": "code",
   "execution_count": 19,
   "id": "deff9191-8431-4538-8670-a55deb06f54f",
   "metadata": {},
   "outputs": [],
   "source": [
    "# Setup log and simulation engines\n",
    "logger = log.get_logger(system)\n",
    "\n",
    "system.operations.integrator = integrator\n",
    "system.operations.writers.append(log.table_formatter(logger, period=1e4))"
   ]
  },
  {
   "cell_type": "code",
   "execution_count": 23,
   "id": "d1ed3070-72b6-451f-9078-dd9a0e02c183",
   "metadata": {},
   "outputs": [],
   "source": [
    "gsd_writer = hoomd.write.GSD(filename='trajectory.gsd',\n",
    "                             trigger=hoomd.trigger.Periodic(2000),\n",
    "                             dynamic=['topology'],\n",
    "                             mode='wb')\n",
    "\n",
    "system.operations.writers.append(gsd_writer)"
   ]
  },
  {
   "cell_type": "code",
   "execution_count": 24,
   "id": "76e9b08f-cb93-4deb-81b2-ab80e74f7965",
   "metadata": {},
   "outputs": [
    {
     "name": "stdout",
     "output_type": "stream",
     "text": [
      "Simulation.timestep  Simulation.tps     Status.etr    Thermo.kinetic_temperature\n",
      "       10000           3523.33279     0:00:53.926215           1.01780          \n",
      "       10000           3523.33279     0:00:53.926215           1.01780          \n",
      "       20000           3902.20050     0:00:46.127819           1.02460          \n",
      "       20000           3902.20050     0:00:46.127819           1.02460          \n",
      "       30000           4117.43706     0:00:41.287820           1.01731          \n",
      "       30000           4117.43706     0:00:41.287820           1.01731          \n",
      "       40000           4233.43982     0:00:37.794325           1.01340          \n",
      "       40000           4233.43982     0:00:37.794325           1.01340          \n",
      "       50000           4306.66070     0:00:34.829770           1.01699          \n",
      "       50000           4306.66070     0:00:34.829770           1.01699          \n",
      "       60000           4356.22269     0:00:32.137935           1.02558          \n",
      "       60000           4356.22269     0:00:32.137935           1.02558          \n",
      "       70000           4392.88270     0:00:29.593324           1.02356          \n",
      "       70000           4392.88270     0:00:29.593324           1.02356          \n",
      "       80000           4422.36893     0:00:27.134778           1.02527          \n",
      "       80000           4422.36893     0:00:27.134778           1.02527          \n",
      "       90000           4443.18520     0:00:24.757014           1.01938          \n",
      "       90000           4443.18520     0:00:24.757014           1.01938          \n",
      "      100000           4463.40139     0:00:22.404438           1.02496          \n",
      "      100000           4463.40139     0:00:22.404438           1.02496          \n",
      "      110000           4479.44069     0:00:20.091794           1.03204          \n",
      "      110000           4479.44069     0:00:20.091794           1.03204          \n",
      "      120000           4491.51895     0:00:17.811346           1.01700          \n",
      "      120000           4491.51895     0:00:17.811346           1.01700          \n",
      "      130000           4503.75434     0:00:15.542588           1.02185          \n",
      "      130000           4503.75434     0:00:15.542588           1.02185          \n",
      "      140000           4513.79372     0:00:13.292588           1.02353          \n",
      "      140000           4513.79372     0:00:13.292588           1.02353          \n",
      "      150000           4521.93716     0:00:11.057208           1.02528          \n",
      "      150000           4521.93716     0:00:11.057208           1.02528          \n",
      "      160000           4528.99143     0:00:08.831988           1.00077          \n",
      "      160000           4528.99143     0:00:08.831988           1.00077          \n",
      "      170000           4534.41839     0:00:06.616064           1.02475          \n",
      "      170000           4534.41839     0:00:06.616064           1.02475          \n",
      "      180000           4538.67343     0:00:04.406574           1.01930          \n",
      "      180000           4538.67343     0:00:04.406574           1.01930          \n",
      "      190000           4544.15598     0:00:02.200629           1.01524          \n",
      "      190000           4544.15598     0:00:02.200629           1.01524          \n",
      "      200000           4549.95385        0:00:00               1.01906          \n",
      "      200000           4549.95385        0:00:00               1.01906          \n"
     ]
    }
   ],
   "source": [
    "system.run(2e5)"
   ]
  },
  {
   "cell_type": "code",
   "execution_count": 29,
   "id": "5b6c55f2-3bb4-4525-9b78-d697ad7fca47",
   "metadata": {},
   "outputs": [],
   "source": [
    "import gsd\n",
    "import numpy as np\n",
    "\n",
    "from polychrom_hoomd.utils import unwrap_coordinates\n",
    "\n",
    "trajectory = gsd.hoomd.open('trajectory.gsd', 'r')\n",
    "rg2 = np.zeros(len(trajectory))\n",
    "\n",
    "for i, snap in enumerate(trajectory):\n",
    "    positions = unwrap_coordinates(snap)\n",
    "    rg2[i] = polymer_analyses.Rg2(positions)"
   ]
  },
  {
   "cell_type": "code",
   "execution_count": 30,
   "id": "351257e9-9d03-4e8c-a372-01216b28417a",
   "metadata": {},
   "outputs": [
    {
     "data": {
      "text/plain": [
       "[<matplotlib.lines.Line2D at 0x7f3d4d7d4250>]"
      ]
     },
     "execution_count": 30,
     "metadata": {},
     "output_type": "execute_result"
    },
    {
     "data": {
      "image/png": "[encoded data removed]",
      "text/plain": [
       "<Figure size 640x480 with 1 Axes>"
      ]
     },
     "metadata": {},
     "output_type": "display_data"
    }
   ],
   "source": [
    "import matplotlib.pyplot as plt\n",
    "\n",
    "plt.plot(rg2)"
   ]
  }
 ],
 "metadata": {
  "kernelspec": {
   "display_name": "Python 3 (ipykernel)",
   "language": "python",
   "name": "python3"
  },
  "language_info": {
   "codemirror_mode": {
    "name": "ipython",
    "version": 3
   },
   "file_extension": ".py",
   "mimetype": "text/x-python",
   "name": "python",
   "nbconvert_exporter": "python",
   "pygments_lexer": "ipython3",
   "version": "3.10.13"
  }
 },
 "nbformat": 4,
 "nbformat_minor": 5
}
