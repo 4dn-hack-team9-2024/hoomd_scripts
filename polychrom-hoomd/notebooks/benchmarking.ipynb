{
 "cells": [
  {
   "cell_type": "code",
   "execution_count": null,
   "metadata": {},
   "outputs": [],
   "source": [
    "%load_ext autoreload\n",
    "%autoreload 2"
   ]
  },
  {
   "cell_type": "code",
   "execution_count": null,
   "metadata": {},
   "outputs": [],
   "source": [
    "from polychrom_hoomd.benchmark import Simulation\n",
    "from functools import partial\n",
    "import logging\n",
    "import numpy as np\n",
    "logger = logging.getLogger(__name__)\n",
    "logger.setLevel(logging.INFO)"
   ]
  },
  {
   "cell_type": "code",
   "execution_count": null,
   "metadata": {},
   "outputs": [],
   "source": [
    "sim_partial = partial(\n",
    "    Simulation,\n",
    "    force_dict_path='polychrom-hoomd/force_configs/DPD_AB.json',\n",
    "    add_dpd_forces=True,\n",
    "    add_attraction_forces=True,\n",
    "    thermostat_type='NVE',\n",
    "    monomer_ids='tile',\n",
    "    init='cubic',\n",
    "    dT=5e-3,\n",
    "    use_wandb=True,\n",
    ")"
   ]
  },
  {
   "cell_type": "code",
   "execution_count": null,
   "metadata": {},
   "outputs": [],
   "source": [
    "runtimes = {}\n",
    "\n",
    "for size in [1000, 10000, 100000, 1000000]:\n",
    "    sim = sim_partial(\n",
    "        chromosome_sizes=size,\n",
    "        random_state=np.random.randint(0, 65535),\n",
    "    )\n",
    "    runtime = sim.run()\n",
    "    runtimes[size] = runtime"
   ]
  }
 ],
 "metadata": {
  "kernelspec": {
   "display_name": "Python 3",
   "language": "python",
   "name": "python3"
  },
  "language_info": {
   "codemirror_mode": {
    "name": "ipython",
    "version": 3
   },
   "file_extension": ".py",
   "mimetype": "text/x-python",
   "name": "python",
   "nbconvert_exporter": "python",
   "pygments_lexer": "ipython3",
   "version": "3.10.13"
  }
 },
 "nbformat": 4,
 "nbformat_minor": 2
}
